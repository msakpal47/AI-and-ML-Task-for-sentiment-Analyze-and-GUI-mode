{
 "cells": [
  {
   "cell_type": "markdown",
   "id": "890e4e5d-2057-42f6-928e-eb93697ad7ac",
   "metadata": {},
   "source": [
    " STEP 1: Load the MNIST Dataset"
   ]
  },
  {
   "cell_type": "code",
   "execution_count": 1,
   "id": "716e5aee-7fec-4b36-8184-217483459d32",
   "metadata": {},
   "outputs": [],
   "source": [
    "from tensorflow.keras.datasets import mnist\n",
    "from tensorflow.keras.utils import to_categorical"
   ]
  },
  {
   "cell_type": "code",
   "execution_count": 2,
   "id": "b7379c57-a88f-4e96-9d2b-88f91b86bf64",
   "metadata": {},
   "outputs": [],
   "source": [
    "# Load dataset\n",
    "(x_train, y_train), (x_test, y_test) = mnist.load_data()"
   ]
  },
  {
   "cell_type": "code",
   "execution_count": 3,
   "id": "1e76401a-c273-4fb4-bb2b-481d60a4cf10",
   "metadata": {},
   "outputs": [],
   "source": [
    "# Normalize data\n",
    "x_train = x_train / 255.0\n",
    "x_test = x_test / 255.0"
   ]
  },
  {
   "cell_type": "code",
   "execution_count": 4,
   "id": "dab1038c-8ae9-4352-8989-ab6e89633afc",
   "metadata": {},
   "outputs": [],
   "source": [
    "# Reshape to fit model input\n",
    "x_train = x_train.reshape(-1, 28 * 28)\n",
    "x_test = x_test.reshape(-1, 28 * 28)"
   ]
  },
  {
   "cell_type": "code",
   "execution_count": 5,
   "id": "6db8b1db-5751-4c91-8f6d-36140569e400",
   "metadata": {},
   "outputs": [],
   "source": [
    "# One-hot encoding\n",
    "y_train = to_categorical(y_train)\n",
    "y_test = to_categorical(y_test)"
   ]
  },
  {
   "cell_type": "markdown",
   "id": "0e80a332-7055-46f1-89ed-d9209af9a406",
   "metadata": {},
   "source": [
    " STEP 2: Train a Basic Neural Network (NN)"
   ]
  },
  {
   "cell_type": "code",
   "execution_count": 7,
   "id": "cc60d977-2512-42f9-94a5-502c03d0c364",
   "metadata": {},
   "outputs": [],
   "source": [
    "from tensorflow.keras.models import Sequential\n",
    "from tensorflow.keras.layers import Dense"
   ]
  },
  {
   "cell_type": "code",
   "execution_count": 8,
   "id": "dc98eb5c-9c5b-459b-b78f-03dbad249250",
   "metadata": {},
   "outputs": [
    {
     "name": "stderr",
     "output_type": "stream",
     "text": [
      "C:\\Users\\admin\\anaconda3\\Lib\\site-packages\\keras\\src\\layers\\core\\dense.py:87: UserWarning: Do not pass an `input_shape`/`input_dim` argument to a layer. When using Sequential models, prefer using an `Input(shape)` object as the first layer in the model instead.\n",
      "  super().__init__(activity_regularizer=activity_regularizer, **kwargs)\n"
     ]
    }
   ],
   "source": [
    "# Build model\n",
    "model = Sequential([\n",
    "    Dense(128, activation='relu', input_shape=(784,)),\n",
    "    Dense(64, activation='relu'),\n",
    "    Dense(10, activation='softmax')\n",
    "])\n"
   ]
  },
  {
   "cell_type": "code",
   "execution_count": 9,
   "id": "830e9bf3-dae0-41fc-b5cd-5de696c8b83c",
   "metadata": {},
   "outputs": [],
   "source": [
    "# Compile\n",
    "model.compile(optimizer='adam', loss='categorical_crossentropy', metrics=['accuracy'])"
   ]
  },
  {
   "cell_type": "code",
   "execution_count": 10,
   "id": "ef055409-07a9-4201-8d57-ea66ebd98105",
   "metadata": {},
   "outputs": [
    {
     "name": "stdout",
     "output_type": "stream",
     "text": [
      "Epoch 1/5\n",
      "\u001b[1m1688/1688\u001b[0m \u001b[32m━━━━━━━━━━━━━━━━━━━━\u001b[0m\u001b[37m\u001b[0m \u001b[1m14s\u001b[0m 6ms/step - accuracy: 0.8728 - loss: 0.4481 - val_accuracy: 0.9647 - val_loss: 0.1167\n",
      "Epoch 2/5\n",
      "\u001b[1m1688/1688\u001b[0m \u001b[32m━━━━━━━━━━━━━━━━━━━━\u001b[0m\u001b[37m\u001b[0m \u001b[1m19s\u001b[0m 6ms/step - accuracy: 0.9650 - loss: 0.1155 - val_accuracy: 0.9728 - val_loss: 0.0915\n",
      "Epoch 3/5\n",
      "\u001b[1m1688/1688\u001b[0m \u001b[32m━━━━━━━━━━━━━━━━━━━━\u001b[0m\u001b[37m\u001b[0m \u001b[1m11s\u001b[0m 6ms/step - accuracy: 0.9779 - loss: 0.0741 - val_accuracy: 0.9757 - val_loss: 0.0833\n",
      "Epoch 4/5\n",
      "\u001b[1m1688/1688\u001b[0m \u001b[32m━━━━━━━━━━━━━━━━━━━━\u001b[0m\u001b[37m\u001b[0m \u001b[1m8s\u001b[0m 4ms/step - accuracy: 0.9832 - loss: 0.0528 - val_accuracy: 0.9745 - val_loss: 0.0951\n",
      "Epoch 5/5\n",
      "\u001b[1m1688/1688\u001b[0m \u001b[32m━━━━━━━━━━━━━━━━━━━━\u001b[0m\u001b[37m\u001b[0m \u001b[1m13s\u001b[0m 6ms/step - accuracy: 0.9857 - loss: 0.0438 - val_accuracy: 0.9767 - val_loss: 0.0892\n"
     ]
    },
    {
     "data": {
      "text/plain": [
       "<keras.src.callbacks.history.History at 0x2158a4e8200>"
      ]
     },
     "execution_count": 10,
     "metadata": {},
     "output_type": "execute_result"
    }
   ],
   "source": [
    "# Train\n",
    "model.fit(x_train, y_train, epochs=5, batch_size=32, validation_split=0.1)"
   ]
  },
  {
   "cell_type": "code",
   "execution_count": 11,
   "id": "b79e31f3-1406-46df-a8bc-c7dfcd0f0707",
   "metadata": {},
   "outputs": [
    {
     "name": "stdout",
     "output_type": "stream",
     "text": [
      "\u001b[1m313/313\u001b[0m \u001b[32m━━━━━━━━━━━━━━━━━━━━\u001b[0m\u001b[37m\u001b[0m \u001b[1m1s\u001b[0m 3ms/step - accuracy: 0.9697 - loss: 0.1000\n",
      "Test Accuracy: 0.972599983215332\n"
     ]
    }
   ],
   "source": [
    "\n",
    "# Evaluate\n",
    "loss, accuracy = model.evaluate(x_test, y_test)\n",
    "print(\"Test Accuracy:\", accuracy)"
   ]
  },
  {
   "cell_type": "markdown",
   "id": "a30a4714-57c7-4385-bcff-ed3a3de056f4",
   "metadata": {},
   "source": [
    "STEP 3: Test the Model with Sample Images"
   ]
  },
  {
   "cell_type": "code",
   "execution_count": 13,
   "id": "efddf4e8-8380-4305-b88f-d90bac944ae3",
   "metadata": {},
   "outputs": [],
   "source": [
    "import matplotlib.pyplot as plt\n",
    "import numpy as np"
   ]
  },
  {
   "cell_type": "code",
   "execution_count": 14,
   "id": "a64b52db-c539-454b-87c4-d6f3a0b5103f",
   "metadata": {},
   "outputs": [
    {
     "name": "stdout",
     "output_type": "stream",
     "text": [
      "\u001b[1m1/1\u001b[0m \u001b[32m━━━━━━━━━━━━━━━━━━━━\u001b[0m\u001b[37m\u001b[0m \u001b[1m0s\u001b[0m 170ms/step\n"
     ]
    }
   ],
   "source": [
    "# Predict on sample test image\n",
    "sample = x_test[0].reshape(1, 784)\n",
    "prediction = model.predict(sample)\n",
    "predicted_digit = np.argmax(prediction)"
   ]
  },
  {
   "cell_type": "code",
   "execution_count": 15,
   "id": "181c06e8-7bfa-4371-8e2f-bb039461b7c6",
   "metadata": {},
   "outputs": [
    {
     "data": {
      "image/png": "[encoded data removed]",
      "text/plain": [
       "<Figure size 640x480 with 1 Axes>"
      ]
     },
     "metadata": {},
     "output_type": "display_data"
    }
   ],
   "source": [
    "# Plot\n",
    "plt.imshow(x_test[0].reshape(28, 28), cmap='gray')\n",
    "plt.title(f\"Predicted Digit: {predicted_digit}\")\n",
    "plt.axis('off')\n",
    "plt.show()"
   ]
  },
  {
   "cell_type": "markdown",
   "id": "1049e787-d81d-4fdf-8c08-1100e3c4d7bc",
   "metadata": {},
   "source": [
    "⭐ BONUS: GUI with Tkinter to Draw and Predict Digits"
   ]
  },
  {
   "cell_type": "code",
   "execution_count": 72,
   "id": "56778316-8ae3-4ff0-8be5-91ad5fe2f433",
   "metadata": {},
   "outputs": [],
   "source": [
    "import tkinter as tk\n",
    "from PIL import Image, ImageDraw, ImageOps, ImageGrab, Image\n",
    "import numpy as np\n",
    "\n",
    "class DigitRecognizer:\n",
    "    def __init__(self, model):\n",
    "        self.model = model\n",
    "        self.window = tk.Tk()\n",
    "        self.window.title(\"Digit Recognizer\")\n",
    "\n",
    "        self.canvas = tk.Canvas(self.window, width=200, height=200, bg='white')\n",
    "        self.canvas.pack()\n",
    "\n",
    "        self.button_predict = tk.Button(self.window, text=\"Predict\", command=self.predict)\n",
    "        self.button_predict.pack()\n",
    "\n",
    "        self.button_clear = tk.Button(self.window, text=\"Clear\", command=self.clear)\n",
    "        self.button_clear.pack()\n",
    "\n",
    "        self.label_result = tk.Label(self.window, text=\"Draw a digit\", font=(\"Arial\", 16))\n",
    "        self.label_result.pack()\n",
    "\n",
    "        self.canvas.bind(\"<B1-Motion>\", self.draw)\n",
    "\n",
    "        self.image1 = Image.new(\"L\", (200, 200), 'white')\n",
    "        self.draw_instance = ImageDraw.Draw(self.image1)\n",
    "\n",
    "        self.window.mainloop()\n",
    "\n",
    "    def draw(self, event):\n",
    "        x, y = event.x, event.y\n",
    "        r = 8\n",
    "        self.canvas.create_oval(x - r, y - r, x + r, y + r, fill='black')\n",
    "        self.draw_instance.ellipse([x - r, y - r, x + r, y + r], fill='black')\n",
    "\n",
    "    def clear(self):\n",
    "        self.canvas.delete(\"all\")\n",
    "        self.draw_instance.rectangle([0, 0, 200, 200], fill='white')\n",
    "        self.label_result.config(text=\"Draw a digit\")\n",
    "\n",
    "    def predict(self):\n",
    "        # Get the canvas position and crop the image\n",
    "        x = self.canvas.winfo_rootx()\n",
    "        y = self.canvas.winfo_rooty()\n",
    "        x1 = x + self.canvas.winfo_width()\n",
    "        y1 = y + self.canvas.winfo_height()\n",
    "\n",
    "        # Grab the canvas area as image\n",
    "        img = ImageGrab.grab().crop((x, y, x1, y1)).convert('L')\n",
    "        img = img.resize((28, 28))\n",
    "\n",
    "        # Invert the image\n",
    "        img = ImageOps.invert(img)\n",
    "\n",
    "        # Convert to numpy array and normalize\n",
    "        img_array = np.array(img).astype('float32') / 255.0\n",
    "        img_array = img_array.reshape(1, 28, 28, 1)\n",
    "\n",
    "        # Predict digit\n",
    "        prediction = self.model.predict(img_array)\n",
    "        digit = np.argmax(prediction)\n",
    "\n",
    "        # Show result\n",
    "        self.label_result.config(text=f\"Predicted: {digit}\")\n",
    "        print(\"Predicted digit:\", digit)\n",
    "\n"
   ]
  },
  {
   "cell_type": "code",
   "execution_count": 73,
   "id": "9f3127de-10c4-4f2b-9fba-8d048f2fa83e",
   "metadata": {},
   "outputs": [
    {
     "data": {
      "text/html": [
       "<pre style=\"white-space:pre;overflow-x:auto;line-height:normal;font-family:Menlo,'DejaVu Sans Mono',consolas,'Courier New',monospace\"><span style=\"font-weight: bold\">Model: \"sequential\"</span>\n",
       "</pre>\n"
      ],
      "text/plain": [
       "\u001b[1mModel: \"sequential\"\u001b[0m\n"
      ]
     },
     "metadata": {},
     "output_type": "display_data"
    },
    {
     "data": {
      "text/html": [
       "<pre style=\"white-space:pre;overflow-x:auto;line-height:normal;font-family:Menlo,'DejaVu Sans Mono',consolas,'Courier New',monospace\">┏━━━━━━━━━━━━━━━━━━━━━━━━━━━━━━━━━━━━━━┳━━━━━━━━━━━━━━━━━━━━━━━━━━━━━┳━━━━━━━━━━━━━━━━━┓\n",
       "┃<span style=\"font-weight: bold\"> Layer (type)                         </span>┃<span style=\"font-weight: bold\"> Output Shape                </span>┃<span style=\"font-weight: bold\">         Param # </span>┃\n",
       "┡━━━━━━━━━━━━━━━━━━━━━━━━━━━━━━━━━━━━━━╇━━━━━━━━━━━━━━━━━━━━━━━━━━━━━╇━━━━━━━━━━━━━━━━━┩\n",
       "│ flatten (<span style=\"color: #0087ff; text-decoration-color: #0087ff\">Flatten</span>)                    │ (<span style=\"color: #00d7ff; text-decoration-color: #00d7ff\">None</span>, <span style=\"color: #00af00; text-decoration-color: #00af00\">784</span>)                 │               <span style=\"color: #00af00; text-decoration-color: #00af00\">0</span> │\n",
       "├──────────────────────────────────────┼─────────────────────────────┼─────────────────┤\n",
       "│ dense (<span style=\"color: #0087ff; text-decoration-color: #0087ff\">Dense</span>)                        │ (<span style=\"color: #00d7ff; text-decoration-color: #00d7ff\">None</span>, <span style=\"color: #00af00; text-decoration-color: #00af00\">128</span>)                 │         <span style=\"color: #00af00; text-decoration-color: #00af00\">100,480</span> │\n",
       "├──────────────────────────────────────┼─────────────────────────────┼─────────────────┤\n",
       "│ dense_1 (<span style=\"color: #0087ff; text-decoration-color: #0087ff\">Dense</span>)                      │ (<span style=\"color: #00d7ff; text-decoration-color: #00d7ff\">None</span>, <span style=\"color: #00af00; text-decoration-color: #00af00\">64</span>)                  │           <span style=\"color: #00af00; text-decoration-color: #00af00\">8,256</span> │\n",
       "├──────────────────────────────────────┼─────────────────────────────┼─────────────────┤\n",
       "│ dense_2 (<span style=\"color: #0087ff; text-decoration-color: #0087ff\">Dense</span>)                      │ (<span style=\"color: #00d7ff; text-decoration-color: #00d7ff\">None</span>, <span style=\"color: #00af00; text-decoration-color: #00af00\">10</span>)                  │             <span style=\"color: #00af00; text-decoration-color: #00af00\">650</span> │\n",
       "└──────────────────────────────────────┴─────────────────────────────┴─────────────────┘\n",
       "</pre>\n"
      ],
      "text/plain": [
       "┏━━━━━━━━━━━━━━━━━━━━━━━━━━━━━━━━━━━━━━┳━━━━━━━━━━━━━━━━━━━━━━━━━━━━━┳━━━━━━━━━━━━━━━━━┓\n",
       "┃\u001b[1m \u001b[0m\u001b[1mLayer (type)                        \u001b[0m\u001b[1m \u001b[0m┃\u001b[1m \u001b[0m\u001b[1mOutput Shape               \u001b[0m\u001b[1m \u001b[0m┃\u001b[1m \u001b[0m\u001b[1m        Param #\u001b[0m\u001b[1m \u001b[0m┃\n",
       "┡━━━━━━━━━━━━━━━━━━━━━━━━━━━━━━━━━━━━━━╇━━━━━━━━━━━━━━━━━━━━━━━━━━━━━╇━━━━━━━━━━━━━━━━━┩\n",
       "│ flatten (\u001b[38;5;33mFlatten\u001b[0m)                    │ (\u001b[38;5;45mNone\u001b[0m, \u001b[38;5;34m784\u001b[0m)                 │               \u001b[38;5;34m0\u001b[0m │\n",
       "├──────────────────────────────────────┼─────────────────────────────┼─────────────────┤\n",
       "│ dense (\u001b[38;5;33mDense\u001b[0m)                        │ (\u001b[38;5;45mNone\u001b[0m, \u001b[38;5;34m128\u001b[0m)                 │         \u001b[38;5;34m100,480\u001b[0m │\n",
       "├──────────────────────────────────────┼─────────────────────────────┼─────────────────┤\n",
       "│ dense_1 (\u001b[38;5;33mDense\u001b[0m)                      │ (\u001b[38;5;45mNone\u001b[0m, \u001b[38;5;34m64\u001b[0m)                  │           \u001b[38;5;34m8,256\u001b[0m │\n",
       "├──────────────────────────────────────┼─────────────────────────────┼─────────────────┤\n",
       "│ dense_2 (\u001b[38;5;33mDense\u001b[0m)                      │ (\u001b[38;5;45mNone\u001b[0m, \u001b[38;5;34m10\u001b[0m)                  │             \u001b[38;5;34m650\u001b[0m │\n",
       "└──────────────────────────────────────┴─────────────────────────────┴─────────────────┘\n"
      ]
     },
     "metadata": {},
     "output_type": "display_data"
    },
    {
     "data": {
      "text/html": [
       "<pre style=\"white-space:pre;overflow-x:auto;line-height:normal;font-family:Menlo,'DejaVu Sans Mono',consolas,'Courier New',monospace\"><span style=\"font-weight: bold\"> Total params: </span><span style=\"color: #00af00; text-decoration-color: #00af00\">218,774</span> (854.59 KB)\n",
       "</pre>\n"
      ],
      "text/plain": [
       "\u001b[1m Total params: \u001b[0m\u001b[38;5;34m218,774\u001b[0m (854.59 KB)\n"
      ]
     },
     "metadata": {},
     "output_type": "display_data"
    },
    {
     "data": {
      "text/html": [
       "<pre style=\"white-space:pre;overflow-x:auto;line-height:normal;font-family:Menlo,'DejaVu Sans Mono',consolas,'Courier New',monospace\"><span style=\"font-weight: bold\"> Trainable params: </span><span style=\"color: #00af00; text-decoration-color: #00af00\">109,386</span> (427.29 KB)\n",
       "</pre>\n"
      ],
      "text/plain": [
       "\u001b[1m Trainable params: \u001b[0m\u001b[38;5;34m109,386\u001b[0m (427.29 KB)\n"
      ]
     },
     "metadata": {},
     "output_type": "display_data"
    },
    {
     "data": {
      "text/html": [
       "<pre style=\"white-space:pre;overflow-x:auto;line-height:normal;font-family:Menlo,'DejaVu Sans Mono',consolas,'Courier New',monospace\"><span style=\"font-weight: bold\"> Non-trainable params: </span><span style=\"color: #00af00; text-decoration-color: #00af00\">0</span> (0.00 B)\n",
       "</pre>\n"
      ],
      "text/plain": [
       "\u001b[1m Non-trainable params: \u001b[0m\u001b[38;5;34m0\u001b[0m (0.00 B)\n"
      ]
     },
     "metadata": {},
     "output_type": "display_data"
    },
    {
     "data": {
      "text/html": [
       "<pre style=\"white-space:pre;overflow-x:auto;line-height:normal;font-family:Menlo,'DejaVu Sans Mono',consolas,'Courier New',monospace\"><span style=\"font-weight: bold\"> Optimizer params: </span><span style=\"color: #00af00; text-decoration-color: #00af00\">109,388</span> (427.30 KB)\n",
       "</pre>\n"
      ],
      "text/plain": [
       "\u001b[1m Optimizer params: \u001b[0m\u001b[38;5;34m109,388\u001b[0m (427.30 KB)\n"
      ]
     },
     "metadata": {},
     "output_type": "display_data"
    }
   ],
   "source": [
    "model.summary()\n"
   ]
  },
  {
   "cell_type": "code",
   "execution_count": 77,
   "id": "9a7a7169-5a7d-4b7a-9bc7-da207a9b1b32",
   "metadata": {},
   "outputs": [
    {
     "name": "stdout",
     "output_type": "stream",
     "text": [
      "\u001b[1m1/1\u001b[0m \u001b[32m━━━━━━━━━━━━━━━━━━━━\u001b[0m\u001b[37m\u001b[0m \u001b[1m0s\u001b[0m 35ms/step\n",
      "Predicted digit: 4\n",
      "\u001b[1m1/1\u001b[0m \u001b[32m━━━━━━━━━━━━━━━━━━━━\u001b[0m\u001b[37m\u001b[0m \u001b[1m0s\u001b[0m 32ms/step\n",
      "Predicted digit: 4\n",
      "\u001b[1m1/1\u001b[0m \u001b[32m━━━━━━━━━━━━━━━━━━━━\u001b[0m\u001b[37m\u001b[0m \u001b[1m0s\u001b[0m 31ms/step\n",
      "Predicted digit: 7\n",
      "\u001b[1m1/1\u001b[0m \u001b[32m━━━━━━━━━━━━━━━━━━━━\u001b[0m\u001b[37m\u001b[0m \u001b[1m0s\u001b[0m 30ms/step\n",
      "Predicted digit: 7\n",
      "\u001b[1m1/1\u001b[0m \u001b[32m━━━━━━━━━━━━━━━━━━━━\u001b[0m\u001b[37m\u001b[0m \u001b[1m0s\u001b[0m 31ms/step\n",
      "Predicted digit: 2\n",
      "\u001b[1m1/1\u001b[0m \u001b[32m━━━━━━━━━━━━━━━━━━━━\u001b[0m\u001b[37m\u001b[0m \u001b[1m0s\u001b[0m 32ms/step\n",
      "Predicted digit: 5\n"
     ]
    },
    {
     "data": {
      "text/plain": [
       "<__main__.DigitRecognizer at 0x215aa6a6e10>"
      ]
     },
     "execution_count": 77,
     "metadata": {},
     "output_type": "execute_result"
    }
   ],
   "source": [
    "DigitRecognizer(model)\n"
   ]
  },
  {
   "cell_type": "code",
   "execution_count": null,
   "id": "171c9cc8-3276-4c34-bbf8-7957bea64de5",
   "metadata": {},
   "outputs": [],
   "source": []
  },
  {
   "cell_type": "markdown",
   "id": "b890a8cb-3fe9-49b4-9419-e1533e78bef7",
   "metadata": {},
   "source": [
    "Optional: Save and Load Model"
   ]
  },
  {
   "cell_type": "code",
   "execution_count": 40,
   "id": "c6a9c8f8-482f-4e03-8586-80f72c5587af",
   "metadata": {},
   "outputs": [
    {
     "name": "stderr",
     "output_type": "stream",
     "text": [
      "C:\\Users\\admin\\anaconda3\\Lib\\site-packages\\keras\\src\\saving\\saving_lib.py:719: UserWarning: Skipping variable loading for optimizer 'adam', because it has 14 variables whereas the saved optimizer has 2 variables. \n",
      "  saveable.load_own_variables(weights_store.get(inner_path))\n"
     ]
    }
   ],
   "source": [
    "# Save\n",
    "model.save(\"digit_classifier.keras\")\n",
    "\n",
    "# Load\n",
    "from tensorflow.keras.models import load_model\n",
    "model = load_model(\"digit_classifier.keras\")"
   ]
  },
  {
   "cell_type": "markdown",
   "id": "c079f3dc-971b-4ceb-aded-56504af69690",
   "metadata": {},
   "source": [
    " How to Use mnist_digit_model.keras in Code:"
   ]
  },
  {
   "cell_type": "code",
   "execution_count": 45,
   "id": "09a3b157-7bdc-4760-bbba-d1cea4fc4d34",
   "metadata": {},
   "outputs": [
    {
     "name": "stdout",
     "output_type": "stream",
     "text": [
      "\u001b[1m313/313\u001b[0m \u001b[32m━━━━━━━━━━━━━━━━━━━━\u001b[0m\u001b[37m\u001b[0m \u001b[1m2s\u001b[0m 6ms/step\n",
      "[7 2 1 0 4]\n"
     ]
    }
   ],
   "source": [
    "from tensorflow.keras.datasets import mnist\n",
    "from tensorflow.keras.utils import to_categorical\n",
    "import numpy as np\n",
    "\n",
    "# Load the data\n",
    "(X_train, y_train), (X_test, y_test) = mnist.load_data()\n",
    "\n",
    "# Preprocess input data\n",
    "X_test = X_test.reshape(X_test.shape[0], 28, 28, 1).astype(\"float32\") / 255.0\n",
    "\n",
    "# Predict using the loaded model\n",
    "predictions = model.predict(X_test)\n",
    "\n",
    "# Show predictions for first 5 digits\n",
    "print(np.argmax(predictions[:5], axis=1))\n"
   ]
  },
  {
   "cell_type": "code",
   "execution_count": 47,
   "id": "209bb5f9-019a-42d2-832c-937b8de5942b",
   "metadata": {},
   "outputs": [
    {
     "data": {
      "text/html": [
       "<pre style=\"white-space:pre;overflow-x:auto;line-height:normal;font-family:Menlo,'DejaVu Sans Mono',consolas,'Courier New',monospace\"><span style=\"font-weight: bold\">Model: \"sequential\"</span>\n",
       "</pre>\n"
      ],
      "text/plain": [
       "\u001b[1mModel: \"sequential\"\u001b[0m\n"
      ]
     },
     "metadata": {},
     "output_type": "display_data"
    },
    {
     "data": {
      "text/html": [
       "<pre style=\"white-space:pre;overflow-x:auto;line-height:normal;font-family:Menlo,'DejaVu Sans Mono',consolas,'Courier New',monospace\">┏━━━━━━━━━━━━━━━━━━━━━━━━━━━━━━━━━━━━━━┳━━━━━━━━━━━━━━━━━━━━━━━━━━━━━┳━━━━━━━━━━━━━━━━━┓\n",
       "┃<span style=\"font-weight: bold\"> Layer (type)                         </span>┃<span style=\"font-weight: bold\"> Output Shape                </span>┃<span style=\"font-weight: bold\">         Param # </span>┃\n",
       "┡━━━━━━━━━━━━━━━━━━━━━━━━━━━━━━━━━━━━━━╇━━━━━━━━━━━━━━━━━━━━━━━━━━━━━╇━━━━━━━━━━━━━━━━━┩\n",
       "│ flatten (<span style=\"color: #0087ff; text-decoration-color: #0087ff\">Flatten</span>)                    │ (<span style=\"color: #00d7ff; text-decoration-color: #00d7ff\">None</span>, <span style=\"color: #00af00; text-decoration-color: #00af00\">784</span>)                 │               <span style=\"color: #00af00; text-decoration-color: #00af00\">0</span> │\n",
       "├──────────────────────────────────────┼─────────────────────────────┼─────────────────┤\n",
       "│ dense (<span style=\"color: #0087ff; text-decoration-color: #0087ff\">Dense</span>)                        │ (<span style=\"color: #00d7ff; text-decoration-color: #00d7ff\">None</span>, <span style=\"color: #00af00; text-decoration-color: #00af00\">128</span>)                 │         <span style=\"color: #00af00; text-decoration-color: #00af00\">100,480</span> │\n",
       "├──────────────────────────────────────┼─────────────────────────────┼─────────────────┤\n",
       "│ dense_1 (<span style=\"color: #0087ff; text-decoration-color: #0087ff\">Dense</span>)                      │ (<span style=\"color: #00d7ff; text-decoration-color: #00d7ff\">None</span>, <span style=\"color: #00af00; text-decoration-color: #00af00\">64</span>)                  │           <span style=\"color: #00af00; text-decoration-color: #00af00\">8,256</span> │\n",
       "├──────────────────────────────────────┼─────────────────────────────┼─────────────────┤\n",
       "│ dense_2 (<span style=\"color: #0087ff; text-decoration-color: #0087ff\">Dense</span>)                      │ (<span style=\"color: #00d7ff; text-decoration-color: #00d7ff\">None</span>, <span style=\"color: #00af00; text-decoration-color: #00af00\">10</span>)                  │             <span style=\"color: #00af00; text-decoration-color: #00af00\">650</span> │\n",
       "└──────────────────────────────────────┴─────────────────────────────┴─────────────────┘\n",
       "</pre>\n"
      ],
      "text/plain": [
       "┏━━━━━━━━━━━━━━━━━━━━━━━━━━━━━━━━━━━━━━┳━━━━━━━━━━━━━━━━━━━━━━━━━━━━━┳━━━━━━━━━━━━━━━━━┓\n",
       "┃\u001b[1m \u001b[0m\u001b[1mLayer (type)                        \u001b[0m\u001b[1m \u001b[0m┃\u001b[1m \u001b[0m\u001b[1mOutput Shape               \u001b[0m\u001b[1m \u001b[0m┃\u001b[1m \u001b[0m\u001b[1m        Param #\u001b[0m\u001b[1m \u001b[0m┃\n",
       "┡━━━━━━━━━━━━━━━━━━━━━━━━━━━━━━━━━━━━━━╇━━━━━━━━━━━━━━━━━━━━━━━━━━━━━╇━━━━━━━━━━━━━━━━━┩\n",
       "│ flatten (\u001b[38;5;33mFlatten\u001b[0m)                    │ (\u001b[38;5;45mNone\u001b[0m, \u001b[38;5;34m784\u001b[0m)                 │               \u001b[38;5;34m0\u001b[0m │\n",
       "├──────────────────────────────────────┼─────────────────────────────┼─────────────────┤\n",
       "│ dense (\u001b[38;5;33mDense\u001b[0m)                        │ (\u001b[38;5;45mNone\u001b[0m, \u001b[38;5;34m128\u001b[0m)                 │         \u001b[38;5;34m100,480\u001b[0m │\n",
       "├──────────────────────────────────────┼─────────────────────────────┼─────────────────┤\n",
       "│ dense_1 (\u001b[38;5;33mDense\u001b[0m)                      │ (\u001b[38;5;45mNone\u001b[0m, \u001b[38;5;34m64\u001b[0m)                  │           \u001b[38;5;34m8,256\u001b[0m │\n",
       "├──────────────────────────────────────┼─────────────────────────────┼─────────────────┤\n",
       "│ dense_2 (\u001b[38;5;33mDense\u001b[0m)                      │ (\u001b[38;5;45mNone\u001b[0m, \u001b[38;5;34m10\u001b[0m)                  │             \u001b[38;5;34m650\u001b[0m │\n",
       "└──────────────────────────────────────┴─────────────────────────────┴─────────────────┘\n"
      ]
     },
     "metadata": {},
     "output_type": "display_data"
    },
    {
     "data": {
      "text/html": [
       "<pre style=\"white-space:pre;overflow-x:auto;line-height:normal;font-family:Menlo,'DejaVu Sans Mono',consolas,'Courier New',monospace\"><span style=\"font-weight: bold\"> Total params: </span><span style=\"color: #00af00; text-decoration-color: #00af00\">218,774</span> (854.59 KB)\n",
       "</pre>\n"
      ],
      "text/plain": [
       "\u001b[1m Total params: \u001b[0m\u001b[38;5;34m218,774\u001b[0m (854.59 KB)\n"
      ]
     },
     "metadata": {},
     "output_type": "display_data"
    },
    {
     "data": {
      "text/html": [
       "<pre style=\"white-space:pre;overflow-x:auto;line-height:normal;font-family:Menlo,'DejaVu Sans Mono',consolas,'Courier New',monospace\"><span style=\"font-weight: bold\"> Trainable params: </span><span style=\"color: #00af00; text-decoration-color: #00af00\">109,386</span> (427.29 KB)\n",
       "</pre>\n"
      ],
      "text/plain": [
       "\u001b[1m Trainable params: \u001b[0m\u001b[38;5;34m109,386\u001b[0m (427.29 KB)\n"
      ]
     },
     "metadata": {},
     "output_type": "display_data"
    },
    {
     "data": {
      "text/html": [
       "<pre style=\"white-space:pre;overflow-x:auto;line-height:normal;font-family:Menlo,'DejaVu Sans Mono',consolas,'Courier New',monospace\"><span style=\"font-weight: bold\"> Non-trainable params: </span><span style=\"color: #00af00; text-decoration-color: #00af00\">0</span> (0.00 B)\n",
       "</pre>\n"
      ],
      "text/plain": [
       "\u001b[1m Non-trainable params: \u001b[0m\u001b[38;5;34m0\u001b[0m (0.00 B)\n"
      ]
     },
     "metadata": {},
     "output_type": "display_data"
    },
    {
     "data": {
      "text/html": [
       "<pre style=\"white-space:pre;overflow-x:auto;line-height:normal;font-family:Menlo,'DejaVu Sans Mono',consolas,'Courier New',monospace\"><span style=\"font-weight: bold\"> Optimizer params: </span><span style=\"color: #00af00; text-decoration-color: #00af00\">109,388</span> (427.30 KB)\n",
       "</pre>\n"
      ],
      "text/plain": [
       "\u001b[1m Optimizer params: \u001b[0m\u001b[38;5;34m109,388\u001b[0m (427.30 KB)\n"
      ]
     },
     "metadata": {},
     "output_type": "display_data"
    }
   ],
   "source": [
    "model = load_model(\"mnist_digit_model.keras\")\n",
    "model.summary()"
   ]
  },
  {
   "cell_type": "code",
   "execution_count": 49,
   "id": "0407bafc-6170-4842-84ef-3d1377784569",
   "metadata": {},
   "outputs": [
    {
     "name": "stdout",
     "output_type": "stream",
     "text": [
      "flatten []\n",
      "dense [array([[ 6.88095316e-02,  6.01869449e-02,  7.23227859e-05, ...,\n",
      "        -2.70369537e-02, -1.82645619e-02,  6.89049065e-03],\n",
      "       [ 2.71777585e-02, -7.09664375e-02,  1.69619322e-02, ...,\n",
      "        -7.76144415e-02, -3.83142382e-02,  6.01646379e-02],\n",
      "       [-2.36157589e-02,  8.11930001e-03,  5.63558936e-03, ...,\n",
      "        -1.98699534e-04,  5.69983199e-02,  5.61676249e-02],\n",
      "       ...,\n",
      "       [-2.33080089e-02,  3.97839099e-02,  4.42304984e-02, ...,\n",
      "         1.20629445e-02, -7.51622096e-02,  3.16137075e-02],\n",
      "       [-4.71727476e-02,  1.18157044e-02, -1.86239183e-03, ...,\n",
      "         4.21536490e-02,  4.11375538e-02, -4.50205468e-02],\n",
      "       [-3.16313878e-02, -6.04052879e-02,  5.44068143e-02, ...,\n",
      "        -1.30527169e-02, -1.73869878e-02, -7.03994334e-02]], dtype=float32), array([ 0.08595732,  0.02800872,  0.00290779,  0.00736734,  0.06565669,\n",
      "       -0.02523213,  0.05635271, -0.07307978,  0.03275095,  0.07753589,\n",
      "       -0.06367774,  0.03391461,  0.06807741,  0.07141684,  0.02963604,\n",
      "        0.16328663,  0.04985748, -0.04496792,  0.14556088, -0.03222905,\n",
      "       -0.02294933, -0.00511768,  0.03437025,  0.02027461,  0.02595251,\n",
      "        0.01895681,  0.08827978,  0.04942755,  0.13062312,  0.04792859,\n",
      "        0.16828904, -0.06681211,  0.00980679,  0.0886145 , -0.02875352,\n",
      "        0.03571608,  0.00340527,  0.09282656,  0.02737537, -0.04391982,\n",
      "       -0.06773848,  0.08769777,  0.07166561, -0.10699773,  0.02934494,\n",
      "        0.0825005 , -0.02571035,  0.00104286, -0.03230422,  0.00561426,\n",
      "        0.10827825,  0.08568571,  0.05188537,  0.06513035,  0.10347204,\n",
      "        0.01709409, -0.03823381,  0.02504971,  0.05393869, -0.13990898,\n",
      "        0.12118524, -0.03988561, -0.02757872,  0.03210234, -0.00211707,\n",
      "       -0.01916209,  0.00575146,  0.1079037 ,  0.05388562, -0.00624751,\n",
      "        0.05863789,  0.03740457,  0.12775032,  0.10969925,  0.03857784,\n",
      "       -0.00287959, -0.05428959,  0.0315161 ,  0.01259171,  0.20023748,\n",
      "        0.02436423, -0.01484333, -0.06109262,  0.03271376,  0.10027768,\n",
      "        0.06353532,  0.06553544, -0.03087822, -0.05770822,  0.01320843,\n",
      "       -0.00291257, -0.08086483,  0.05392089,  0.09835334,  0.12702873,\n",
      "        0.07454557,  0.02123046, -0.04387543, -0.05283622, -0.08277884,\n",
      "        0.00207507, -0.06165861,  0.01034682, -0.11157057, -0.00110033,\n",
      "       -0.00041079, -0.09142173,  0.03224008,  0.03430729, -0.09985448,\n",
      "       -0.00316135,  0.04730524,  0.01272148,  0.00226093,  0.02565728,\n",
      "       -0.01895109,  0.00179464,  0.02575015, -0.00964611,  0.04470712,\n",
      "        0.01681269,  0.01697432, -0.07077796,  0.02141859,  0.10037362,\n",
      "        0.02674853,  0.00539714,  0.0522765 ], dtype=float32)]\n",
      "dense_1 [array([[ 0.14699383, -0.2541917 ,  0.15918931, ...,  0.21321717,\n",
      "        -0.09063116, -0.15128043],\n",
      "       [ 0.12242775, -0.29291677,  0.04394588, ..., -0.09469491,\n",
      "        -0.15382947,  0.21528374],\n",
      "       [ 0.03568991,  0.12335116, -0.07208627, ...,  0.17133516,\n",
      "        -0.04539539,  0.01274603],\n",
      "       ...,\n",
      "       [ 0.2732346 , -0.01943506,  0.11820935, ..., -0.05330088,\n",
      "         0.09658507,  0.2839577 ],\n",
      "       [ 0.40446487, -0.13227218, -0.384341  , ...,  0.1258096 ,\n",
      "        -0.05544661,  0.19642578],\n",
      "       [ 0.31113547,  0.11348312, -0.1739422 , ...,  0.13620354,\n",
      "        -0.05260704,  0.11669756]], dtype=float32), array([-0.00237942, -0.03059294,  0.04653615,  0.09015103,  0.05009595,\n",
      "       -0.04136202,  0.16138445,  0.09751692, -0.04885242,  0.00720938,\n",
      "        0.06579421,  0.17591764,  0.07481362,  0.09471086, -0.02772785,\n",
      "        0.112794  ,  0.1431938 ,  0.01519871,  0.00430513,  0.02488036,\n",
      "        0.02845076, -0.08233456,  0.01909579,  0.06417087, -0.01268628,\n",
      "        0.14609337, -0.00129751, -0.03200116,  0.15325323, -0.03220914,\n",
      "        0.17535868, -0.06177167,  0.03960311,  0.05938593,  0.07578509,\n",
      "        0.14518438,  0.0472588 , -0.00737224,  0.14409247, -0.06988176,\n",
      "        0.08407898, -0.00073983,  0.0452976 ,  0.02706794,  0.05467422,\n",
      "       -0.09296069, -0.01507765,  0.0592618 ,  0.10849027, -0.00137921,\n",
      "       -0.0520061 ,  0.03220687,  0.00689657, -0.05990092,  0.07446972,\n",
      "        0.0710195 , -0.0615404 ,  0.02445471,  0.07485204,  0.02676344,\n",
      "        0.01383801,  0.10779194,  0.00585775,  0.12398047], dtype=float32)]\n",
      "dense_2 [array([[-1.57467321e-01,  1.73942253e-01,  3.02873820e-01,\n",
      "         3.12729090e-01, -4.36915100e-01,  1.90252334e-01,\n",
      "        -3.25870782e-01,  2.03621089e-01,  1.41001701e-01,\n",
      "        -5.73466830e-02],\n",
      "       [-6.29204392e-01, -1.75231293e-01,  9.66192107e-04,\n",
      "         4.03736681e-01, -5.86654879e-02,  2.84120589e-01,\n",
      "        -3.36957097e-01, -2.12927788e-01, -8.37071240e-02,\n",
      "         2.96579450e-01],\n",
      "       [ 8.10309500e-02,  1.86188251e-01, -2.32897982e-01,\n",
      "        -2.56512910e-01,  3.03330541e-01,  2.23721474e-01,\n",
      "        -2.72033632e-01,  3.71070415e-01, -2.55340546e-01,\n",
      "        -2.25356311e-01],\n",
      "       [-1.38409972e-01, -3.54787469e-01, -3.50886524e-01,\n",
      "         1.12770364e-01, -2.12932259e-01,  2.03310549e-01,\n",
      "        -2.67844647e-01, -6.79443479e-02,  9.92135629e-02,\n",
      "         1.70950636e-01],\n",
      "       [-2.17911199e-01, -3.21216404e-01,  3.30947727e-01,\n",
      "        -5.74632734e-02,  6.05676472e-02,  3.15481275e-01,\n",
      "         2.20461547e-01, -2.92422444e-01, -3.15490335e-01,\n",
      "         1.52479649e-01],\n",
      "       [-5.19846976e-01,  3.14780474e-01,  2.89588690e-01,\n",
      "        -8.86055008e-02, -1.52012900e-01,  1.61081746e-01,\n",
      "         1.73582863e-02,  2.65613079e-01, -6.45832345e-03,\n",
      "        -5.11162162e-01],\n",
      "       [-2.79010743e-01, -1.85670897e-01, -3.65903348e-01,\n",
      "        -3.16827968e-02,  1.56035438e-01,  2.11582221e-02,\n",
      "        -2.26371989e-01,  2.13492602e-01,  1.87466979e-01,\n",
      "         2.56068200e-01],\n",
      "       [-1.96673408e-01, -4.43988055e-01,  3.88200879e-01,\n",
      "        -1.90895662e-01,  1.21611021e-01,  1.63146872e-02,\n",
      "        -4.76930244e-03,  1.59890018e-02, -8.18955526e-02,\n",
      "        -5.44179440e-01],\n",
      "       [-1.29739672e-01,  2.09866643e-01,  2.01784164e-01,\n",
      "         9.99087654e-03,  5.14126867e-02, -4.86008078e-01,\n",
      "        -3.30075085e-01, -2.76275247e-01, -2.60459810e-01,\n",
      "         2.34561086e-01],\n",
      "       [-1.49575397e-01, -2.75815040e-01,  6.92175180e-02,\n",
      "        -2.49105185e-01, -4.09061015e-01, -1.75358616e-02,\n",
      "        -1.76869482e-01,  3.09740841e-01, -2.10070442e-02,\n",
      "         1.81663692e-01],\n",
      "       [ 2.86385357e-01, -2.01016814e-01, -1.23493835e-01,\n",
      "        -2.93671042e-01, -3.13509703e-01, -1.58720370e-02,\n",
      "         4.14621860e-01, -1.80260688e-01,  2.94699222e-02,\n",
      "        -5.89609854e-02],\n",
      "       [-2.16319710e-01,  4.68913540e-02, -3.14810812e-01,\n",
      "        -2.62857437e-01,  3.60030413e-01, -2.06092596e-01,\n",
      "         1.61628768e-01, -4.36794251e-01,  2.87857801e-01,\n",
      "        -3.43284011e-02],\n",
      "       [-3.24521512e-01,  1.50824219e-01,  8.17308724e-02,\n",
      "         5.70032299e-02, -2.77988594e-02,  2.98823833e-01,\n",
      "        -2.04408228e-01, -4.49970998e-02, -1.86162770e-01,\n",
      "        -1.82299808e-01],\n",
      "       [ 1.73368528e-01, -1.74241230e-01, -4.99514639e-02,\n",
      "         1.48253217e-01,  1.51957408e-01, -2.83450961e-01,\n",
      "        -2.30786428e-01,  4.81929369e-02,  1.66809380e-01,\n",
      "         2.71928132e-01],\n",
      "       [ 1.99745640e-01,  1.10252656e-01, -3.51609662e-02,\n",
      "         2.68051237e-01,  2.42861196e-01, -2.16439798e-01,\n",
      "         1.44454956e-01,  3.01142186e-01,  1.19496342e-02,\n",
      "         3.28542769e-01],\n",
      "       [-1.93938538e-01,  1.93906099e-01,  2.50820935e-01,\n",
      "         9.38850790e-02, -2.07563847e-01,  2.58387357e-01,\n",
      "         2.61149079e-01, -3.06941450e-01,  3.08183283e-01,\n",
      "        -5.59207760e-02],\n",
      "       [-1.53775901e-01, -1.25162825e-01, -7.62208402e-02,\n",
      "        -2.31948853e-01,  1.57459050e-01, -1.27014443e-01,\n",
      "        -2.00040683e-01, -1.58482581e-01,  1.46982789e-01,\n",
      "         1.62812203e-01],\n",
      "       [-3.02035987e-01,  1.85657144e-01,  2.87640661e-01,\n",
      "        -3.96255761e-01,  2.67403811e-01, -1.18028052e-01,\n",
      "         3.40761453e-01,  2.10590646e-01, -3.91120583e-01,\n",
      "         2.44874343e-01],\n",
      "       [ 9.28967446e-02,  6.36606663e-02,  1.83237553e-01,\n",
      "        -1.73676163e-01, -3.49820018e-01,  3.48278821e-01,\n",
      "         3.13383639e-01,  2.69902021e-01, -1.04305059e-01,\n",
      "        -7.46264383e-02],\n",
      "       [-4.04613644e-01,  3.15574527e-01, -3.56628716e-01,\n",
      "         1.40728399e-01, -2.11436510e-01,  3.14162411e-02,\n",
      "        -4.68973704e-02, -1.62617788e-01,  7.55042210e-02,\n",
      "        -3.41641665e-01],\n",
      "       [-8.33576694e-02, -4.43495572e-01,  2.04691783e-01,\n",
      "        -1.44105479e-01, -3.30333680e-01,  1.16909377e-01,\n",
      "         4.08916980e-01, -2.04826683e-01,  1.50668487e-01,\n",
      "        -1.64246798e-01],\n",
      "       [ 1.30278870e-01, -1.43963099e-01,  4.70927618e-02,\n",
      "         3.80221158e-02, -3.27487767e-01, -2.48502210e-01,\n",
      "         1.50291026e-01,  1.17623344e-01, -2.72756130e-01,\n",
      "         3.14845353e-01],\n",
      "       [-3.53879392e-01,  1.02835171e-01,  2.55045652e-01,\n",
      "        -2.18606070e-01,  1.54069010e-02, -3.66709381e-01,\n",
      "         2.12543592e-01,  3.32180649e-01, -2.66298980e-01,\n",
      "        -4.05312777e-01],\n",
      "       [ 7.81095326e-02, -3.77284497e-01, -5.45038991e-02,\n",
      "         3.33420753e-01, -5.39131582e-01,  1.36649042e-01,\n",
      "        -2.57725865e-01, -3.59343469e-01,  2.77184308e-01,\n",
      "        -6.22108504e-02],\n",
      "       [-1.15988292e-01,  1.25928968e-01, -2.04112738e-01,\n",
      "         1.37845367e-01, -3.25448692e-01, -2.32745096e-01,\n",
      "        -1.95378825e-01,  1.19349398e-01,  7.22041056e-02,\n",
      "        -1.16586827e-01],\n",
      "       [ 7.27194399e-02,  3.07831705e-01, -4.82367694e-01,\n",
      "        -4.26308215e-01,  2.06059232e-01, -4.39189404e-01,\n",
      "         2.99673557e-01, -6.27774298e-02,  2.02906594e-01,\n",
      "        -1.10950291e-01],\n",
      "       [ 4.57385406e-02, -3.66219759e-01, -3.31351966e-01,\n",
      "         1.53491631e-01, -5.49523719e-03,  1.91199049e-01,\n",
      "         1.56543657e-01, -4.64839935e-02, -2.90237576e-01,\n",
      "        -2.33972035e-02],\n",
      "       [ 2.23360851e-01, -2.20124722e-01, -5.71143031e-02,\n",
      "        -2.03390464e-01,  9.50998887e-02,  7.88382217e-02,\n",
      "        -3.99790376e-01, -1.03738517e-01,  1.39388785e-01,\n",
      "        -1.24479257e-01],\n",
      "       [-2.22165659e-01,  1.38886660e-01, -8.96879882e-02,\n",
      "        -3.87621164e-01,  3.16967875e-01, -2.12402657e-01,\n",
      "        -2.36381397e-01, -5.25131933e-02,  1.43050283e-01,\n",
      "         3.30982625e-01],\n",
      "       [-1.68982416e-01,  5.02978325e-01, -2.93908000e-01,\n",
      "         5.07845283e-02, -2.32142165e-01,  2.40329549e-01,\n",
      "         7.35756159e-02,  2.23192766e-01, -1.01343349e-01,\n",
      "         2.42349789e-01],\n",
      "       [-3.34234238e-01, -2.69994527e-01,  1.57785527e-02,\n",
      "        -7.11677074e-02,  1.40288591e-01, -5.79046644e-02,\n",
      "         3.10544550e-01,  1.72091853e-02,  2.23736584e-01,\n",
      "        -3.52867603e-01],\n",
      "       [ 2.23324969e-01,  2.14052379e-01, -1.16708308e-01,\n",
      "         2.04444587e-01, -2.40044281e-01,  6.30522519e-02,\n",
      "        -1.13200530e-01, -1.25897363e-01, -1.48117229e-01,\n",
      "        -1.68560773e-01],\n",
      "       [-3.19148272e-01,  7.26047978e-02,  1.62318811e-01,\n",
      "         1.60886735e-01,  1.17115892e-01, -5.62571704e-01,\n",
      "        -4.51533556e-01,  3.31568956e-01,  1.98806182e-01,\n",
      "         8.05429742e-02],\n",
      "       [ 3.71605940e-02,  1.85826644e-01, -1.10629186e-01,\n",
      "        -1.75487772e-01,  2.99200714e-01, -4.45457608e-01,\n",
      "         3.59731555e-01, -2.15030298e-01, -4.83102575e-02,\n",
      "        -7.46792331e-02],\n",
      "       [ 2.42889836e-01,  5.62515333e-02,  1.42322063e-01,\n",
      "         2.79602677e-01, -2.55014092e-01,  2.10088165e-03,\n",
      "         1.55502453e-01, -4.41682011e-01,  2.20158428e-01,\n",
      "        -3.01423073e-01],\n",
      "       [-2.51972049e-01, -2.73553371e-01,  2.29330733e-01,\n",
      "        -3.13875347e-01,  2.99981028e-01, -8.94408301e-02,\n",
      "        -1.67943627e-01, -1.01397514e-01,  1.84789911e-01,\n",
      "         4.16719355e-02],\n",
      "       [-1.94559563e-02,  3.41771454e-01, -3.38472463e-02,\n",
      "        -2.35117942e-01,  3.59619588e-01, -1.18013456e-01,\n",
      "        -8.74631256e-02,  3.42917740e-01,  2.54571259e-01,\n",
      "        -2.03081906e-01],\n",
      "       [-3.25975835e-01,  6.08577766e-02, -1.97023988e-01,\n",
      "         2.91940033e-01,  1.70152877e-02,  2.10067764e-01,\n",
      "        -4.09088492e-01,  1.77727476e-01, -9.50997695e-02,\n",
      "         3.68633233e-02],\n",
      "       [ 6.25762939e-02, -2.32869267e-01,  1.85333341e-01,\n",
      "         2.94482589e-01,  1.28072590e-01,  3.66303653e-01,\n",
      "         1.58305347e-01, -2.99252480e-01,  2.55311280e-01,\n",
      "        -1.34482846e-01],\n",
      "       [ 2.01495662e-01, -2.36224174e-01, -2.94234812e-01,\n",
      "        -1.16738573e-01, -7.95805920e-03,  2.25474253e-01,\n",
      "         2.58089453e-01, -1.31817177e-01,  2.68893242e-01,\n",
      "        -2.36472905e-01],\n",
      "       [ 3.64551216e-01, -1.86811574e-02,  4.00293022e-02,\n",
      "        -2.04154953e-01, -1.53119907e-01, -2.00439855e-01,\n",
      "        -1.34893969e-01, -1.74662024e-01,  2.01196030e-01,\n",
      "        -3.29794198e-01],\n",
      "       [ 2.03544632e-01,  4.67479587e-01, -2.44921967e-01,\n",
      "        -1.88477308e-01, -4.44618553e-01,  5.96734434e-02,\n",
      "         3.72619271e-01,  2.66051680e-01, -3.27556491e-01,\n",
      "        -4.11737174e-01],\n",
      "       [ 1.39190003e-01, -8.19523260e-02, -3.82581800e-01,\n",
      "        -2.30249718e-01,  2.36242384e-01,  8.17957819e-02,\n",
      "         1.75427288e-01,  3.17228436e-01, -6.96723908e-02,\n",
      "        -5.43823652e-02],\n",
      "       [ 1.27552167e-01, -4.67802256e-01, -1.23410784e-01,\n",
      "        -5.70462495e-02, -2.37720147e-01, -2.28594467e-02,\n",
      "        -1.45073488e-01, -4.33267444e-01, -2.63152152e-01,\n",
      "         1.55564055e-01],\n",
      "       [ 2.92841643e-01, -7.68631399e-02, -2.24371776e-01,\n",
      "        -4.72865701e-01, -2.10204616e-01,  3.39709401e-01,\n",
      "         3.66236344e-02,  3.41834843e-01,  1.22485030e-02,\n",
      "        -4.24560867e-02],\n",
      "       [-6.16122484e-01,  3.09768409e-01,  1.79686829e-01,\n",
      "         3.27976823e-01,  8.45851749e-02,  9.78376493e-02,\n",
      "        -4.93523628e-01, -5.60315773e-02, -2.16175899e-01,\n",
      "         2.27594703e-01],\n",
      "       [ 3.12880278e-01, -1.32463768e-01, -4.49966937e-02,\n",
      "        -2.36055136e-01,  2.00127810e-01, -1.44328117e-01,\n",
      "        -9.30424631e-02,  9.85494480e-02, -6.54188514e-01,\n",
      "         2.24026918e-01],\n",
      "       [ 1.33809913e-02, -4.71822977e-01, -1.74253017e-01,\n",
      "        -5.36745647e-03,  1.41847298e-01,  1.88349739e-01,\n",
      "        -2.14566797e-01, -2.38716304e-01, -1.90395132e-01,\n",
      "         3.30306798e-01],\n",
      "       [ 3.29674743e-02, -3.21923703e-01,  2.17511095e-02,\n",
      "        -2.71443784e-01, -4.74602997e-01,  1.63476735e-01,\n",
      "         3.26262742e-01, -3.97056401e-01,  3.51828307e-01,\n",
      "        -1.25512227e-01],\n",
      "       [ 2.30740190e-01, -5.91341145e-02, -2.87496328e-01,\n",
      "        -8.15011486e-02, -2.26463571e-01,  2.95065790e-01,\n",
      "        -1.29825830e-01, -3.35531384e-01, -3.23191762e-01,\n",
      "         3.77067238e-01],\n",
      "       [ 1.95925280e-01,  1.60671189e-01,  2.07664981e-01,\n",
      "        -2.85796911e-01, -1.20731868e-01,  2.11739793e-01,\n",
      "        -3.58717516e-02,  1.82575688e-01, -6.50546372e-01,\n",
      "        -2.43099436e-01],\n",
      "       [ 2.20452398e-01, -5.21836877e-01,  3.58285517e-01,\n",
      "        -9.93408486e-02, -4.67748702e-01, -1.73199296e-01,\n",
      "        -2.23623499e-01,  5.14344592e-03,  4.34096046e-02,\n",
      "        -5.20316586e-02],\n",
      "       [ 3.20298314e-01,  3.18693578e-01, -2.42726088e-01,\n",
      "        -1.92844227e-01,  9.81512759e-03, -4.01401490e-01,\n",
      "         1.50068521e-01,  1.12772822e-01,  1.89947724e-01,\n",
      "        -1.39482915e-01],\n",
      "       [-9.35030878e-02,  1.74982864e-02,  3.00238937e-01,\n",
      "         2.02226058e-01,  7.70161450e-02, -4.00876909e-01,\n",
      "        -2.00339288e-01,  1.55733898e-01, -2.63126701e-01,\n",
      "         2.56315380e-01],\n",
      "       [-4.61876504e-02, -3.39447290e-01, -2.98329651e-01,\n",
      "        -3.70400667e-01,  1.31180301e-01,  1.05108529e-01,\n",
      "        -2.59978890e-01, -7.51201808e-02, -2.87157327e-01,\n",
      "         2.55222339e-02],\n",
      "       [ 3.29373032e-01, -1.02932990e-01,  3.27649742e-01,\n",
      "        -1.64214551e-01,  5.67654222e-02, -6.57830387e-02,\n",
      "        -3.76461260e-02, -2.47002363e-01,  9.46600288e-02,\n",
      "        -1.83586478e-02],\n",
      "       [ 3.45545739e-01,  2.61371255e-01,  1.41429186e-01,\n",
      "        -8.62405449e-02, -4.74597886e-03,  2.05469847e-01,\n",
      "        -9.73513201e-02, -4.90726531e-01, -1.51993483e-02,\n",
      "        -2.49197543e-01],\n",
      "       [-2.71421485e-03,  3.62998128e-01, -1.93677726e-04,\n",
      "        -2.31419191e-01,  3.45292419e-01, -3.26317906e-01,\n",
      "         1.74790755e-01, -3.97756130e-01, -8.10903981e-02,\n",
      "        -3.72290730e-01],\n",
      "       [-2.87619799e-01,  2.24454895e-01, -3.67907584e-01,\n",
      "        -4.25939351e-01, -2.10178062e-01,  2.80521244e-01,\n",
      "         1.96196988e-01, -3.53593558e-01,  1.77593172e-01,\n",
      "         3.61401379e-01],\n",
      "       [-2.52822220e-01,  1.32951900e-01,  2.85302103e-01,\n",
      "         2.59682149e-01, -9.55420285e-02, -1.47111509e-02,\n",
      "        -2.44866878e-01, -2.85879225e-02,  1.49946138e-01,\n",
      "        -4.25667465e-01],\n",
      "       [-1.31773964e-01, -4.78523485e-02,  7.73737580e-02,\n",
      "         3.71031135e-01,  1.79806694e-01, -6.03896705e-03,\n",
      "        -1.13027981e-02,  3.03851627e-02, -4.35075104e-01,\n",
      "        -4.81051743e-01],\n",
      "       [ 9.51062590e-02, -4.64454770e-01, -2.16677159e-01,\n",
      "         5.76817840e-02, -3.15864742e-01,  8.50206167e-02,\n",
      "         3.88630420e-01, -7.61582553e-02,  1.97108880e-01,\n",
      "        -1.30206689e-01],\n",
      "       [ 2.53039271e-01,  8.37567002e-02,  5.95665574e-02,\n",
      "         2.12725252e-01,  4.22344282e-02, -1.50534183e-01,\n",
      "        -1.54051185e-01,  2.57380575e-01,  1.79994062e-01,\n",
      "        -4.79614288e-02],\n",
      "       [-4.20866162e-01,  2.67759800e-01, -1.83472455e-01,\n",
      "        -1.90839127e-01,  1.13375001e-01,  2.84801811e-01,\n",
      "         2.64987588e-01, -1.46278897e-02,  1.54557139e-01,\n",
      "        -1.26234278e-01]], dtype=float32), array([-0.03130141, -0.07181869, -0.03796407, -0.04847316,  0.03927705,\n",
      "        0.01913561, -0.02782204, -0.03373189,  0.11564954,  0.01742117],\n",
      "      dtype=float32)]\n"
     ]
    }
   ],
   "source": [
    "for layer in model.layers:\n",
    "    print(layer.name, layer.get_weights())"
   ]
  },
  {
   "cell_type": "code",
   "execution_count": null,
   "id": "61eed97b-3df1-4a60-873b-9732dd5d73f1",
   "metadata": {},
   "outputs": [],
   "source": []
  }
 ],
 "metadata": {
  "kernelspec": {
   "display_name": "Python 3 (ipykernel)",
   "language": "python",
   "name": "python3"
  },
  "language_info": {
   "codemirror_mode": {
    "name": "ipython",
    "version": 3
   },
   "file_extension": ".py",
   "mimetype": "text/x-python",
   "name": "python",
   "nbconvert_exporter": "python",
   "pygments_lexer": "ipython3",
   "version": "3.12.4"
  }
 },
 "nbformat": 4,
 "nbformat_minor": 5
}
