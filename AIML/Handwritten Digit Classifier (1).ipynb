{
 "cells": [
  {
   "cell_type": "markdown",
   "id": "890e4e5d-2057-42f6-928e-eb93697ad7ac",
   "metadata": {},
   "source": [
    " STEP 1: Load the MNIST Dataset"
   ]
  },
  {
   "cell_type": "code",
   "execution_count": null,
   "id": "716e5aee-7fec-4b36-8184-217483459d32",
   "metadata": {},
   "outputs": [],
   "source": [
    "from tensorflow.keras.datasets import mnist\n",
    "from tensorflow.keras.utils import to_categorical"
   ]
  },
  {
   "cell_type": "code",
   "execution_count": null,
   "id": "c0b34625-1b13-486a-b5c9-2bbc33cd397a",
   "metadata": {},
   "outputs": [],
   "source": [
    "pip install tensorflow\n"
   ]
  },
  {
   "cell_type": "code",
   "execution_count": null,
   "id": "b7379c57-a88f-4e96-9d2b-88f91b86bf64",
   "metadata": {},
   "outputs": [],
   "source": [
    "# Load dataset\n",
    "(x_train, y_train), (x_test, y_test) = mnist.load_data()"
   ]
  },
  {
   "cell_type": "code",
   "execution_count": null,
   "id": "1e76401a-c273-4fb4-bb2b-481d60a4cf10",
   "metadata": {},
   "outputs": [],
   "source": [
    "# Normalize data\n",
    "x_train = x_train / 255.0\n",
    "x_test = x_test / 255.0"
   ]
  },
  {
   "cell_type": "code",
   "execution_count": null,
   "id": "dab1038c-8ae9-4352-8989-ab6e89633afc",
   "metadata": {},
   "outputs": [],
   "source": [
    "# Reshape to fit model input\n",
    "x_train = x_train.reshape(-1, 28 * 28)\n",
    "x_test = x_test.reshape(-1, 28 * 28)"
   ]
  },
  {
   "cell_type": "code",
   "execution_count": null,
   "id": "6db8b1db-5751-4c91-8f6d-36140569e400",
   "metadata": {},
   "outputs": [],
   "source": [
    "# One-hot encoding\n",
    "y_train = to_categorical(y_train)\n",
    "y_test = to_categorical(y_test)"
   ]
  },
  {
   "cell_type": "markdown",
   "id": "0e80a332-7055-46f1-89ed-d9209af9a406",
   "metadata": {},
   "source": [
    " STEP 2: Train a Basic Neural Network (NN)"
   ]
  },
  {
   "cell_type": "code",
   "execution_count": null,
   "id": "cc60d977-2512-42f9-94a5-502c03d0c364",
   "metadata": {},
   "outputs": [],
   "source": [
    "from tensorflow.keras.models import Sequential\n",
    "from tensorflow.keras.layers import Dense"
   ]
  },
  {
   "cell_type": "code",
   "execution_count": null,
   "id": "dc98eb5c-9c5b-459b-b78f-03dbad249250",
   "metadata": {},
   "outputs": [],
   "source": [
    "# Build model\n",
    "model = Sequential([\n",
    "    Dense(128, activation='relu', input_shape=(784,)),\n",
    "    Dense(64, activation='relu'),\n",
    "    Dense(10, activation='softmax')\n",
    "])\n"
   ]
  },
  {
   "cell_type": "code",
   "execution_count": null,
   "id": "830e9bf3-dae0-41fc-b5cd-5de696c8b83c",
   "metadata": {},
   "outputs": [],
   "source": [
    "# Compile\n",
    "model.compile(optimizer='adam', loss='categorical_crossentropy', metrics=['accuracy'])"
   ]
  },
  {
   "cell_type": "code",
   "execution_count": null,
   "id": "ef055409-07a9-4201-8d57-ea66ebd98105",
   "metadata": {},
   "outputs": [],
   "source": [
    "# Train\n",
    "model.fit(x_train, y_train, epochs=5, batch_size=32, validation_split=0.1)"
   ]
  },
  {
   "cell_type": "code",
   "execution_count": null,
   "id": "b79e31f3-1406-46df-a8bc-c7dfcd0f0707",
   "metadata": {},
   "outputs": [],
   "source": [
    "\n",
    "# Evaluate\n",
    "loss, accuracy = model.evaluate(x_test, y_test)\n",
    "print(\"Test Accuracy:\", accuracy)"
   ]
  },
  {
   "cell_type": "markdown",
   "id": "a30a4714-57c7-4385-bcff-ed3a3de056f4",
   "metadata": {},
   "source": [
    "STEP 3: Test the Model with Sample Images"
   ]
  },
  {
   "cell_type": "code",
   "execution_count": null,
   "id": "efddf4e8-8380-4305-b88f-d90bac944ae3",
   "metadata": {},
   "outputs": [],
   "source": [
    "import matplotlib.pyplot as plt\n",
    "import numpy as np"
   ]
  },
  {
   "cell_type": "code",
   "execution_count": null,
   "id": "a64b52db-c539-454b-87c4-d6f3a0b5103f",
   "metadata": {},
   "outputs": [],
   "source": [
    "# Predict on sample test image\n",
    "sample = x_test[0].reshape(1, 784)\n",
    "prediction = model.predict(sample)\n",
    "predicted_digit = np.argmax(prediction)"
   ]
  },
  {
   "cell_type": "code",
   "execution_count": null,
   "id": "181c06e8-7bfa-4371-8e2f-bb039461b7c6",
   "metadata": {},
   "outputs": [],
   "source": [
    "# Plot\n",
    "plt.imshow(x_test[0].reshape(28, 28), cmap='gray')\n",
    "plt.title(f\"Predicted Digit: {predicted_digit}\")\n",
    "plt.axis('off')\n",
    "plt.show()"
   ]
  },
  {
   "cell_type": "markdown",
   "id": "1049e787-d81d-4fdf-8c08-1100e3c4d7bc",
   "metadata": {},
   "source": [
    "⭐ BONUS: GUI with Tkinter to Draw and Predict Digits"
   ]
  },
  {
   "cell_type": "code",
   "execution_count": null,
   "id": "56778316-8ae3-4ff0-8be5-91ad5fe2f433",
   "metadata": {},
   "outputs": [],
   "source": [
    "import tkinter as tk\n",
    "from PIL import Image, ImageDraw, ImageOps, ImageGrab, Image\n",
    "import numpy as np\n",
    "\n",
    "class DigitRecognizer:\n",
    "    def __init__(self, model):\n",
    "        self.model = model\n",
    "        self.window = tk.Tk()\n",
    "        self.window.title(\"Digit Recognizer\")\n",
    "\n",
    "        self.canvas = tk.Canvas(self.window, width=200, height=200, bg='white')\n",
    "        self.canvas.pack()\n",
    "\n",
    "        self.button_predict = tk.Button(self.window, text=\"Predict\", command=self.predict)\n",
    "        self.button_predict.pack()\n",
    "\n",
    "        self.button_clear = tk.Button(self.window, text=\"Clear\", command=self.clear)\n",
    "        self.button_clear.pack()\n",
    "\n",
    "        self.label_result = tk.Label(self.window, text=\"Draw a digit\", font=(\"Arial\", 16))\n",
    "        self.label_result.pack()\n",
    "\n",
    "        self.canvas.bind(\"<B1-Motion>\", self.draw)\n",
    "\n",
    "        self.image1 = Image.new(\"L\", (200, 200), 'white')\n",
    "        self.draw_instance = ImageDraw.Draw(self.image1)\n",
    "\n",
    "        self.window.mainloop()\n",
    "\n",
    "    def draw(self, event):\n",
    "        x, y = event.x, event.y\n",
    "        r = 8\n",
    "        self.canvas.create_oval(x - r, y - r, x + r, y + r, fill='black')\n",
    "        self.draw_instance.ellipse([x - r, y - r, x + r, y + r], fill='black')\n",
    "\n",
    "    def clear(self):\n",
    "        self.canvas.delete(\"all\")\n",
    "        self.draw_instance.rectangle([0, 0, 200, 200], fill='white')\n",
    "        self.label_result.config(text=\"Draw a digit\")\n",
    "\n",
    "    def predict(self):\n",
    "        # Get the canvas position and crop the image\n",
    "        x = self.canvas.winfo_rootx()\n",
    "        y = self.canvas.winfo_rooty()\n",
    "        x1 = x + self.canvas.winfo_width()\n",
    "        y1 = y + self.canvas.winfo_height()\n",
    "\n",
    "        # Grab the canvas area as image\n",
    "        img = ImageGrab.grab().crop((x, y, x1, y1)).convert('L')\n",
    "        img = img.resize((28, 28))\n",
    "\n",
    "        # Invert the image\n",
    "        img = ImageOps.invert(img)\n",
    "\n",
    "        # Convert to numpy array and normalize\n",
    "        img_array = np.array(img).astype('float32') / 255.0\n",
    "        img_array = img_array.reshape(1, 28, 28, 1)\n",
    "\n",
    "        # Predict digit\n",
    "        prediction = self.model.predict(img_array)\n",
    "        digit = np.argmax(prediction)\n",
    "\n",
    "        # Show result\n",
    "        self.label_result.config(text=f\"Predicted: {digit}\")\n",
    "        print(\"Predicted digit:\", digit)\n",
    "\n"
   ]
  },
  {
   "cell_type": "code",
   "execution_count": null,
   "id": "9f3127de-10c4-4f2b-9fba-8d048f2fa83e",
   "metadata": {},
   "outputs": [],
   "source": [
    "model.summary()\n"
   ]
  },
  {
   "cell_type": "code",
   "execution_count": null,
   "id": "9a7a7169-5a7d-4b7a-9bc7-da207a9b1b32",
   "metadata": {},
   "outputs": [],
   "source": [
    "DigitRecognizer(model)\n"
   ]
  },
  {
   "cell_type": "code",
   "execution_count": null,
   "id": "171c9cc8-3276-4c34-bbf8-7957bea64de5",
   "metadata": {},
   "outputs": [],
   "source": []
  },
  {
   "cell_type": "markdown",
   "id": "b890a8cb-3fe9-49b4-9419-e1533e78bef7",
   "metadata": {},
   "source": [
    "Optional: Save and Load Model"
   ]
  },
  {
   "cell_type": "code",
   "execution_count": null,
   "id": "c6a9c8f8-482f-4e03-8586-80f72c5587af",
   "metadata": {},
   "outputs": [],
   "source": [
    "# Save\n",
    "model.save(\"digit_classifier.keras\")\n",
    "\n",
    "# Load\n",
    "from tensorflow.keras.models import load_model\n",
    "model = load_model(\"digit_classifier.keras\")"
   ]
  },
  {
   "cell_type": "markdown",
   "id": "c079f3dc-971b-4ceb-aded-56504af69690",
   "metadata": {},
   "source": [
    " How to Use mnist_digit_model.keras in Code:"
   ]
  },
  {
   "cell_type": "code",
   "execution_count": null,
   "id": "09a3b157-7bdc-4760-bbba-d1cea4fc4d34",
   "metadata": {},
   "outputs": [],
   "source": [
    "from tensorflow.keras.datasets import mnist\n",
    "from tensorflow.keras.utils import to_categorical\n",
    "import numpy as np\n",
    "\n",
    "# Load the data\n",
    "(X_train, y_train), (X_test, y_test) = mnist.load_data()\n",
    "\n",
    "# Preprocess input data\n",
    "X_test = X_test.reshape(X_test.shape[0], 28, 28, 1).astype(\"float32\") / 255.0\n",
    "\n",
    "# Predict using the loaded model\n",
    "predictions = model.predict(X_test)\n",
    "\n",
    "# Show predictions for first 5 digits\n",
    "print(np.argmax(predictions[:5], axis=1))\n"
   ]
  },
  {
   "cell_type": "code",
   "execution_count": null,
   "id": "209bb5f9-019a-42d2-832c-937b8de5942b",
   "metadata": {},
   "outputs": [],
   "source": [
    "model = load_model(\"mnist_digit_model.keras\")\n",
    "model.summary()"
   ]
  },
  {
   "cell_type": "code",
   "execution_count": null,
   "id": "0407bafc-6170-4842-84ef-3d1377784569",
   "metadata": {},
   "outputs": [],
   "source": [
    "for layer in model.layers:\n",
    "    print(layer.name, layer.get_weights())"
   ]
  },
  {
   "cell_type": "code",
   "execution_count": null,
   "id": "61eed97b-3df1-4a60-873b-9732dd5d73f1",
   "metadata": {},
   "outputs": [],
   "source": []
  }
 ],
 "metadata": {
  "kernelspec": {
   "display_name": "Python 3 (ipykernel)",
   "language": "python",
   "name": "python3"
  },
  "language_info": {
   "codemirror_mode": {
    "name": "ipython",
    "version": 3
   },
   "file_extension": ".py",
   "mimetype": "text/x-python",
   "name": "python",
   "nbconvert_exporter": "python",
   "pygments_lexer": "ipython3",
   "version": "3.13.2"
  }
 },
 "nbformat": 4,
 "nbformat_minor": 5
}
